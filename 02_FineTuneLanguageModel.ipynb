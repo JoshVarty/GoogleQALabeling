{
 "cells": [
  {
   "cell_type": "markdown",
   "metadata": {},
   "source": [
    "## Fine Tune Language Model"
   ]
  },
  {
   "cell_type": "markdown",
   "metadata": {},
   "source": [
    "Since our questions come from the Stack Exchange network, it's probably useful for us to fine-tune a model against all of the questions and answers on this site.\n",
    "\n",
    "I've never done this before, so let's try to figure it out."
   ]
  },
  {
   "cell_type": "code",
   "execution_count": 36,
   "metadata": {},
   "outputs": [],
   "source": [
    "import os\n",
    "import glob\n",
    "from bs4 import BeautifulSoup\n",
    "import xml.etree.ElementTree as ET"
   ]
  },
  {
   "cell_type": "code",
   "execution_count": 70,
   "metadata": {},
   "outputs": [
    {
     "data": {
      "text/plain": [
       "['data/academia.meta.stackexchange.com', 'data/ai.stackexchange.com']"
      ]
     },
     "execution_count": 70,
     "metadata": {},
     "output_type": "execute_result"
    }
   ],
   "source": [
    "# Find all directories containing Stack Exchange posts\n",
    "directories = glob.glob('data/*stackexchange.com')\n",
    "directories[:2]"
   ]
  },
  {
   "cell_type": "code",
   "execution_count": 69,
   "metadata": {},
   "outputs": [
    {
     "data": {
      "text/plain": [
       "'academia.meta.stackexchange.com'"
      ]
     },
     "execution_count": 69,
     "metadata": {},
     "output_type": "execute_result"
    }
   ],
   "source": [
    "x = Path('data/academia.meta.stackexchange.com')\n",
    "x.name"
   ]
  },
  {
   "cell_type": "code",
   "execution_count": 63,
   "metadata": {},
   "outputs": [
    {
     "data": {
      "text/plain": [
       "PosixPath('data')"
      ]
     },
     "execution_count": 63,
     "metadata": {},
     "output_type": "execute_result"
    }
   ],
   "source": [
    "x.parent"
   ]
  },
  {
   "cell_type": "code",
   "execution_count": 71,
   "metadata": {},
   "outputs": [],
   "source": [
    "# Take each site and save it's raw text in single .txt file\n",
    "def save_site_text_as_txt_file(directory:Path):\n",
    "    \n",
    "    output_name = x.parent / (directory.name + '.txt')\n",
    "    with open(output_name, 'w') as out_file:\n",
    "        \n",
    "        \n",
    "        # Open up the XML file for all posts\n",
    "        full_path = directory/\"Posts.xml\"\n",
    "        tree = ET.parse(full_path)\n",
    "        root = tree.getroot()\n",
    "        for child in root.getchildren():\n",
    "            # Read HTML post with BeautifulSoup, strip tags\n",
    "            soup = BeautifulSoup(child.attrib['Body'])\n",
    "            text = soup.get_text()\n",
    "\n",
    "            # write it to the file\n",
    "            out_file.write(text)\n",
    "            out_file.write('\\n')\n",
    "        "
   ]
  },
  {
   "cell_type": "code",
   "execution_count": 72,
   "metadata": {},
   "outputs": [],
   "source": [
    "# Get .txt file for every site we've downloaded\n",
    "for directory in directories:\n",
    "    save_site_text_as_txt_file(Path(directory))"
   ]
  }
 ],
 "metadata": {
  "kernelspec": {
   "display_name": "Python (DL)",
   "language": "python",
   "name": "dl"
  },
  "language_info": {
   "codemirror_mode": {
    "name": "ipython",
    "version": 3
   },
   "file_extension": ".py",
   "mimetype": "text/x-python",
   "name": "python",
   "nbconvert_exporter": "python",
   "pygments_lexer": "ipython3",
   "version": "3.6.7"
  }
 },
 "nbformat": 4,
 "nbformat_minor": 2
}
