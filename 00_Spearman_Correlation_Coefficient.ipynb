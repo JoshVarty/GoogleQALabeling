{
 "cells": [
  {
   "cell_type": "markdown",
   "metadata": {},
   "source": [
    "## Spearman Correlation Coefficient"
   ]
  },
  {
   "cell_type": "markdown",
   "metadata": {},
   "source": [
    "Let's take a moment to try to develop some intuition about the metric used in this competition: [Spearman Correlation Coefficient](https://en.wikipedia.org/wiki/Spearman%27s_rank_correlation_coefficient)."
   ]
  },
  {
   "cell_type": "markdown",
   "metadata": {},
   "source": [
    "> Spearman's rank correlation coefficient or Spearman's ρ, named after Charles Spearman and often denoted by the Greek letter rho or as rs, is a nonparametric measure of rank correlation (statistical dependence between the rankings of two variables). It assesses how well the relationship between two variables can be described using a monotonic function."
   ]
  },
  {
   "cell_type": "markdown",
   "metadata": {},
   "source": [
    "Some notes:\n",
    " - It only cares about order\n",
    " - It ranges from -1 to 1"
   ]
  },
  {
   "cell_type": "code",
   "execution_count": 5,
   "metadata": {},
   "outputs": [],
   "source": [
    "import numpy as np\n",
    "from scipy.stats import spearmanr"
   ]
  },
  {
   "cell_type": "code",
   "execution_count": 6,
   "metadata": {},
   "outputs": [],
   "source": [
    "def print_spearmanr(a, b):\n",
    "    v = spearmanr(a, b)\n",
    "    print(v, v.correlation)"
   ]
  },
  {
   "cell_type": "code",
   "execution_count": 8,
   "metadata": {},
   "outputs": [
    {
     "name": "stdout",
     "output_type": "stream",
     "text": [
      "SpearmanrResult(correlation=1.0, pvalue=0.0) 1.0\n"
     ]
    }
   ],
   "source": [
    "# When sequence order matches perfectly, we get 1.0\n",
    "a = np.array([0., 1., 2., 3.])\n",
    "b = np.array([0., 1., 2., 3.])\n",
    "print_spearmanr(a, b) # --> 1."
   ]
  },
  {
   "cell_type": "code",
   "execution_count": 9,
   "metadata": {},
   "outputs": [
    {
     "name": "stdout",
     "output_type": "stream",
     "text": [
      "SpearmanrResult(correlation=1.0, pvalue=0.0) 1.0\n"
     ]
    }
   ],
   "source": [
    "# Even if the values are not the same, as long as the order is correct, we get 1.0\n",
    "b2 = np.array([4., 5., 6., 7.])\n",
    "print_spearmanr(a, b2)  # --> 1."
   ]
  },
  {
   "cell_type": "markdown",
   "metadata": {},
   "source": [
    "### What happens when our target (a) has identical values in it?"
   ]
  },
  {
   "cell_type": "code",
   "execution_count": 14,
   "metadata": {},
   "outputs": [
    {
     "name": "stdout",
     "output_type": "stream",
     "text": [
      "SpearmanrResult(correlation=0.8944271909999159, pvalue=0.10557280900008413) 0.8944271909999159\n"
     ]
    }
   ],
   "source": [
    "# What happens when we have ties\n",
    "a = np.array([0.5, 0.5, 0.7, 0.7])\n",
    "b = np.array([4., 4.01, 6., 7.])\n",
    "print_spearmanr(a, b) # --> 0.89"
   ]
  },
  {
   "cell_type": "code",
   "execution_count": 17,
   "metadata": {},
   "outputs": [
    {
     "name": "stdout",
     "output_type": "stream",
     "text": [
      "SpearmanrResult(correlation=0.9428090415820635, pvalue=0.05719095841793652) 0.9428090415820635\n"
     ]
    }
   ],
   "source": [
    "# What happens when we have ties AND get the tie correct in our output\n",
    "a = np.array([0.5, 0.5, 0.7, 0.7])\n",
    "b = np.array([4., 4., 6., 7.])\n",
    "print_spearmanr(a, b) # --> 0.94"
   ]
  },
  {
   "cell_type": "markdown",
   "metadata": {},
   "source": [
    "What's interesting here is that the score will swing wildly if we don't predict when values are identical. For example, in the first case we predicted `4.01` and in the second we predicted `4.00`. Despite this tiny change, the score varies hugely.\n",
    "\n",
    "This is probably important because many of the values in the training set are identical, so we need to come up with a good way to predict when values are the same."
   ]
  }
 ],
 "metadata": {
  "kernelspec": {
   "display_name": "Python (DL)",
   "language": "python",
   "name": "dl"
  },
  "language_info": {
   "codemirror_mode": {
    "name": "ipython",
    "version": 3
   },
   "file_extension": ".py",
   "mimetype": "text/x-python",
   "name": "python",
   "nbconvert_exporter": "python",
   "pygments_lexer": "ipython3",
   "version": "3.6.9"
  }
 },
 "nbformat": 4,
 "nbformat_minor": 4
}
